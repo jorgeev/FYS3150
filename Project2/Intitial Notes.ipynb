{
 "cells": [
  {
   "cell_type": "code",
   "execution_count": 1,
   "metadata": {},
   "outputs": [],
   "source": [
    "import numpy as np\n",
    "import math\n",
    "cc = 0"
   ]
  },
  {
   "cell_type": "code",
   "execution_count": 2,
   "metadata": {},
   "outputs": [
    {
     "name": "stdout",
     "output_type": "stream",
     "text": [
      "[[3.61064918 2.68799425 8.26255771 9.39045036 3.43621063]\n",
      " [4.03677843 2.61409755 8.852059   1.28256495 3.94580483]\n",
      " [6.81852816 2.21645344 0.56400933 8.77324372 4.43487023]\n",
      " [0.31252798 3.64755469 4.98784838 6.68082734 6.78658292]\n",
      " [6.33628619 9.40634533 9.40765845 9.29558002 8.57234801]]\n"
     ]
    },
    {
     "data": {
      "text/plain": [
       "9.407658450668041"
      ]
     },
     "execution_count": 2,
     "metadata": {},
     "output_type": "execute_result"
    }
   ],
   "source": [
    "Mval = 0\n",
    "A  = 10*np.random.rand(5,5)\n",
    "print(A)\n",
    "mm = len(A)\n",
    "np.max(A)"
   ]
  },
  {
   "cell_type": "code",
   "execution_count": 3,
   "metadata": {},
   "outputs": [
    {
     "name": "stdout",
     "output_type": "stream",
     "text": [
      "5 9.407658450668041 Position= ( 4 2 )\n"
     ]
    }
   ],
   "source": [
    "for ii in range(0,5):\n",
    "    # print(ii)\n",
    "    for jj in range(0,mm):\n",
    "        # print(jj)\n",
    "        if ii != jj:\n",
    "            if abs(A[ii,jj]) > abs(Mval):\n",
    "                Mval = A[ii,jj]\n",
    "                ll = ii\n",
    "                kk = jj\n",
    "                cc = cc+1\n",
    "print(cc,Mval,\"Position= (\",ll,kk,\")\")\n",
    "            "
   ]
  },
  {
   "cell_type": "code",
   "execution_count": null,
   "metadata": {},
   "outputs": [],
   "source": []
  },
  {
   "cell_type": "code",
   "execution_count": null,
   "metadata": {},
   "outputs": [],
   "source": []
  },
  {
   "cell_type": "code",
   "execution_count": null,
   "metadata": {},
   "outputs": [],
   "source": []
  }
 ],
 "metadata": {
  "kernelspec": {
   "display_name": "Python 3",
   "language": "python",
   "name": "python3"
  },
  "language_info": {
   "codemirror_mode": {
    "name": "ipython",
    "version": 3
   },
   "file_extension": ".py",
   "mimetype": "text/x-python",
   "name": "python",
   "nbconvert_exporter": "python",
   "pygments_lexer": "ipython3",
   "version": "3.6.5"
  }
 },
 "nbformat": 4,
 "nbformat_minor": 2
}
