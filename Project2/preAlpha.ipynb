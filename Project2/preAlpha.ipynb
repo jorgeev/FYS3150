{
 "cells": [
  {
   "cell_type": "code",
   "execution_count": 1,
   "metadata": {},
   "outputs": [],
   "source": [
    "# Libraries\n",
    "import numpy as np\n",
    "import scipy.linalg\n",
    "from scipy.sparse import diags\n",
    "import time\n",
    "import sys, os\n",
    "from math import sqrt"
   ]
  },
  {
   "cell_type": "code",
   "execution_count": 2,
   "metadata": {},
   "outputs": [],
   "source": [
    "# Parameters\n",
    "def inicial(sz = 4, tol = 1e-10):\n",
    "    diags3 = np.array([-1 *np.ones(sz - 1),2 * np.ones(sz),-1 * np.ones(sz - 1)])\n",
    "    config = [-1,0,1]\n",
    "    A = diags(diags3,config).toarray()\n",
    "    # A = np.array([[3.,1.,0.,0.], [1.,2.,3.,0], [0.,2.,2.,4], [0.,0.,5.,1.]])\n",
    "    # A = np.array([[9.,5.,4.,3.],[9.,9.,2.,4.],[9.,9.,9.,8.],[9.,9.,9.,9.]])\n",
    "    # A = 10*np.random.rand(5,5)\n",
    "    print(A)\n",
    "    return(A,sz,tol)"
   ]
  },
  {
   "cell_type": "code",
   "execution_count": 3,
   "metadata": {},
   "outputs": [],
   "source": [
    "def j_rotation(M,R,l,k):\n",
    "    a = 0\n",
    "    "
   ]
  },
  {
   "cell_type": "code",
   "execution_count": 4,
   "metadata": {},
   "outputs": [],
   "source": [
    "# Search Function\n",
    "def search_m(M,dim):\n",
    "    Mval = 0\n",
    "    for ii in range(0,dim-1):\n",
    "        for jj in range(ii+1,dim):\n",
    "            if abs(M[ii,jj]) > abs(Mval):\n",
    "                Mval = M[ii,jj]\n",
    "                l = ii\n",
    "                k = jj\n",
    "    return(Mval,l,k)"
   ]
  },
  {
   "cell_type": "code",
   "execution_count": 5,
   "metadata": {},
   "outputs": [
    {
     "name": "stdout",
     "output_type": "stream",
     "text": [
      "[[ 2. -1.  0.  0.]\n",
      " [-1.  2. -1.  0.]\n",
      " [ 0. -1.  2. -1.]\n",
      " [ 0.  0. -1.  2.]]\n"
     ]
    }
   ],
   "source": [
    "A,m,tol = inicial()"
   ]
  },
  {
   "cell_type": "code",
   "execution_count": 10,
   "metadata": {},
   "outputs": [],
   "source": [
    "Mval,ll,kk = search_m(A,m)"
   ]
  },
  {
   "cell_type": "code",
   "execution_count": 11,
   "metadata": {},
   "outputs": [
    {
     "name": "stdout",
     "output_type": "stream",
     "text": [
      "[[6. 0. 0. 0.]\n",
      " [0. 6. 0. 0.]\n",
      " [0. 0. 6. 0.]\n",
      " [0. 0. 0. 2.]]\n"
     ]
    }
   ],
   "source": [
    "akl = A[kk,ll]\n",
    "akk = A[kk,kk]\n",
    "all_= A[ll,ll]\n",
    "tau = (all_ - akk) / (2 * akl)\n",
    "t = 1 / (abs(tau) + sqrt(1 + tau ** 2))\n",
    "if tau < 0.0: t = -t\n",
    "c = 1 / sqrt(1 + tau **2)\n",
    "s = c * t\n",
    "A[kk,ll] = 0; A[ll,kk] = 0;\n",
    "A[ll,ll]=all_*c*c-2*akl*c*s+akk*s*s;\n",
    "A[kk,kk]=all_*s*s+2*akl*c*s+akk*c*c;\n",
    "print(A)"
   ]
  },
  {
   "cell_type": "code",
   "execution_count": null,
   "metadata": {},
   "outputs": [],
   "source": []
  }
 ],
 "metadata": {
  "kernelspec": {
   "display_name": "Python 3",
   "language": "python",
   "name": "python3"
  },
  "language_info": {
   "codemirror_mode": {
    "name": "ipython",
    "version": 3
   },
   "file_extension": ".py",
   "mimetype": "text/x-python",
   "name": "python",
   "nbconvert_exporter": "python",
   "pygments_lexer": "ipython3",
   "version": "3.6.5"
  }
 },
 "nbformat": 4,
 "nbformat_minor": 2
}
