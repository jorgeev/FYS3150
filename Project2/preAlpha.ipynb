{
 "cells": [
  {
   "cell_type": "code",
   "execution_count": 8,
   "metadata": {},
   "outputs": [],
   "source": [
    "# Libraries\n",
    "import numpy as np\n",
    "import scipy.linalg\n",
    "from scipy.sparse import diags\n",
    "import time\n",
    "import sys, os\n",
    "from math import sqrt"
   ]
  },
  {
   "cell_type": "code",
   "execution_count": 9,
   "metadata": {},
   "outputs": [],
   "source": [
    "# Parameters\n",
    "def inicial(sz = 4, tol = 1e-10):\n",
    "    diags3 = np.array([-1 *np.ones(sz - 1),2 * np.ones(sz),-1 * np.ones(sz - 1)])\n",
    "    config = [-1,0,1]\n",
    "    A = diags(diags3,config).toarray()\n",
    "    # A = np.array([[3.,1.,0.,0.], [1.,2.,3.,0], [0.,2.,2.,4], [0.,0.,5.,1.]])\n",
    "    # A = np.array([[9.,5.,4.,3.],[9.,9.,2.,4.],[9.,9.,9.,8.],[9.,9.,9.,9.]])\n",
    "    # A = 10*np.random.rand(5,5)\n",
    "    print(A)\n",
    "    return(A,sz,tol)"
   ]
  },
  {
   "cell_type": "code",
   "execution_count": 10,
   "metadata": {},
   "outputs": [],
   "source": [
    "def j_rotation(M,p,l,k,n):\n",
    "    A = M\n",
    "    aDiff = A[l,l] - A[k,k]\n",
    "    if abs(A[k,l]) < abs(aDiff)*1.0e-36: t = a[k,l]/aDiff\n",
    "    else:\n",
    "        tau0 = aDiff / (2.0 * M[k,l])\n",
    "        t = 1.0 / (abs(tau0) + sqrt(tau0**2 + 1.0))\n",
    "        if tau0 < 0.0: t = -t\n",
    "    c = 1.0/sqrt(t**2 + 1.0); s = t*c\n",
    "    tau = s/(1.0 + c)\n",
    "    temp = A[k,l]\n",
    "    A[k,l] = 0.0\n",
    "    A[k,k] = A[k,k] - t*temp\n",
    "    A[l,l] = A[l,l] + t*temp\n",
    "    for i in range(k):\n",
    "# Case of i < k\n",
    "        temp = a[i,k]\n",
    "        a[i,k] = temp - s*(a[i,l] + tau*temp)\n",
    "        a[i,l] = a[i,l] + s*(temp - tau*a[i,l])\n",
    "    for i in range(k+1,l):\n",
    "# Case of k < i < l\n",
    "        temp = a[k,i]\n",
    "        a[k,i] = temp - s*(a[i,l] + tau*a[k,i])\n",
    "        a[i,l] = a[i,l] + s*(temp - tau*a[i,l])\n",
    "    for i in range(l+1,n):\n",
    "# Case of i > l\n",
    "        temp = a[k,i]\n",
    "        a[k,i] = temp - s*(a[l,i] + tau*temp)\n",
    "        a[l,i] = a[l,i] + s*(temp - tau*a[l,i])\n",
    "    for i in range(n):\n",
    "# Update transformation matrix\n",
    "        temp = p[i,k]\n",
    "        p[i,k] = temp - s*(p[i,l] + tau*p[i,k])\n",
    "        p[i,l] = p[i,l] + s*(temp - tau*p[i,l])\n",
    "    return(M,p)"
   ]
  },
  {
   "cell_type": "code",
   "execution_count": 11,
   "metadata": {},
   "outputs": [],
   "source": [
    "# Search Function\n",
    "def search_m(M,dim):\n",
    "    Mval = 0\n",
    "    for ii in range(0,dim-1):\n",
    "        for jj in range(ii+1,dim):\n",
    "            if abs(M[ii,jj]) > abs(Mval):\n",
    "                Mval = M[ii,jj]\n",
    "                l = ii\n",
    "                k = jj\n",
    "    return(Mval,l,k)"
   ]
  },
  {
   "cell_type": "code",
   "execution_count": 12,
   "metadata": {},
   "outputs": [
    {
     "name": "stdout",
     "output_type": "stream",
     "text": [
      "[[ 2. -1.  0.  0.]\n",
      " [-1.  2. -1.  0.]\n",
      " [ 0. -1.  2. -1.]\n",
      " [ 0.  0. -1.  2.]]\n"
     ]
    }
   ],
   "source": [
    "A,m,tol = inicial()"
   ]
  },
  {
   "cell_type": "code",
   "execution_count": 13,
   "metadata": {},
   "outputs": [],
   "source": [
    "Mval,ll,kk = search_m(A,m)\n",
    "a = A"
   ]
  },
  {
   "cell_type": "code",
   "execution_count": 14,
   "metadata": {},
   "outputs": [
    {
     "name": "stdout",
     "output_type": "stream",
     "text": [
      "[[ 2.22044605e-16  1.12132034e+00 -7.07106781e-01  0.00000000e+00]\n",
      " [ 0.00000000e+00  3.12132034e+00 -7.07106781e-01  0.00000000e+00]\n",
      " [ 0.00000000e+00 -1.00000000e+00  2.00000000e+00 -1.00000000e+00]\n",
      " [ 0.00000000e+00  0.00000000e+00 -1.00000000e+00  2.00000000e+00]]\n",
      "[[ 0.70710678 -0.70710678  0.          0.        ]\n",
      " [ 0.70710678  0.70710678  0.          0.        ]\n",
      " [ 0.          0.          1.          0.        ]\n",
      " [ 0.          0.          0.          1.        ]]\n"
     ]
    }
   ],
   "source": [
    "p = np.identity(m,float)\n",
    "for k in range(200):\n",
    "    a,p= j_rotation(a,p,ll,kk,m)\n",
    "print(a)\n",
    "print(p)\n",
    "#print(\"Jacobi method did not converge\")"
   ]
  },
  {
   "cell_type": "code",
   "execution_count": null,
   "metadata": {},
   "outputs": [],
   "source": [
    "akl = A[kk,ll]\n",
    "akk = A[kk,kk]\n",
    "all_= A[ll,ll]\n",
    "tau = (all_ - akk) / (2 * akl)\n",
    "t = 1 / (abs(tau) + sqrt(1 + tau ** 2))\n",
    "if tau < 0.0: t = -t\n",
    "c = 1 / sqrt(1 + tau **2)\n",
    "s = c * t\n",
    "A[kk,ll] = 0; A[ll,kk] = 0;\n",
    "A[ll,ll]=all_*c*c-2*akl*c*s+akk*s*s;\n",
    "A[kk,kk]=all_*s*s+2*akl*c*s+akk*c*c;\n",
    "print(A)"
   ]
  },
  {
   "cell_type": "code",
   "execution_count": null,
   "metadata": {},
   "outputs": [],
   "source": []
  }
 ],
 "metadata": {
  "kernelspec": {
   "display_name": "Python 3",
   "language": "python",
   "name": "python3"
  },
  "language_info": {
   "codemirror_mode": {
    "name": "ipython",
    "version": 3
   },
   "file_extension": ".py",
   "mimetype": "text/x-python",
   "name": "python",
   "nbconvert_exporter": "python",
   "pygments_lexer": "ipython3",
   "version": "3.6.5"
  }
 },
 "nbformat": 4,
 "nbformat_minor": 2
}
