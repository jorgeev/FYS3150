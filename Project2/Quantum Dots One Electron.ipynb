{
 "cells": [
  {
   "cell_type": "code",
   "execution_count": 1,
   "metadata": {},
   "outputs": [],
   "source": [
    "# Quantum dots\n",
    "# Libraries\n",
    "import numpy as np\n",
    "import math\n",
    "import scipy.linalg as cpy\n",
    "from jtools import *"
   ]
  },
  {
   "cell_type": "code",
   "execution_count": 2,
   "metadata": {},
   "outputs": [],
   "source": [
    "def dots(size = 5, RMin = 0.,RMax = 10.):\n",
    "    # Get potential\n",
    "    def potential(x):\n",
    "        return x**2\n",
    "    \n",
    "    # Creates a tridiagonal matrix\n",
    "    step = RMax / (size + 1.)\n",
    "    Aux = np.zeros(size)\n",
    "    Aux[0] = 2. / step**2\n",
    "    Aux[1] = -1. / step**2\n",
    "    toe = cpy.toeplitz(Aux)\n",
    "    \n",
    "    # Adding potential values\n",
    "    r = np.linspace(RMin,RMax, size)\n",
    "    v = np.zeros(size)\n",
    "    for ii in range(size):\n",
    "        r[ii] = RMin + (ii+1) * step\n",
    "        v[ii] = potential(r[ii])\n",
    "        toe[ii,ii] = toe[ii,ii] + v[ii]\n",
    "    del Aux, r, v\n",
    "    return(toe, size)"
   ]
  },
  {
   "cell_type": "code",
   "execution_count": 3,
   "metadata": {},
   "outputs": [
    {
     "name": "stdout",
     "output_type": "stream",
     "text": [
      "[[ 3.24644628 -1.21        0.          0.          0.          0.\n",
      "   0.          0.          0.          0.        ]\n",
      " [-1.21        5.72578512 -1.21        0.          0.          0.\n",
      "   0.          0.          0.          0.        ]\n",
      " [ 0.         -1.21        9.85801653 -1.21        0.          0.\n",
      "   0.          0.          0.          0.        ]\n",
      " [ 0.          0.         -1.21       15.6431405  -1.21        0.\n",
      "   0.          0.          0.          0.        ]\n",
      " [ 0.          0.          0.         -1.21       23.08115702 -1.21\n",
      "   0.          0.          0.          0.        ]\n",
      " [ 0.          0.          0.          0.         -1.21       32.17206612\n",
      "  -1.21        0.          0.          0.        ]\n",
      " [ 0.          0.          0.          0.          0.         -1.21\n",
      "  42.91586777 -1.21        0.          0.        ]\n",
      " [ 0.          0.          0.          0.          0.          0.\n",
      "  -1.21       55.31256198 -1.21        0.        ]\n",
      " [ 0.          0.          0.          0.          0.          0.\n",
      "   0.         -1.21       69.36214876 -1.21      ]\n",
      " [ 0.          0.          0.          0.          0.          0.\n",
      "   0.          0.         -1.21       85.0646281 ]]\n",
      "Itereations 88\n",
      "[ 2.72256285  5.89458045  9.95979269 15.69954704 23.11698763 32.1968567\n",
      " 42.9340429  55.3264593  69.37338023 85.1576084 ]\n"
     ]
    }
   ],
   "source": [
    "A, m = dots(10)\n",
    "print(A)\n",
    "lam, V, t = jacobiT(A,m,1)\n",
    "del A\n",
    "print(lam)"
   ]
  }
 ],
 "metadata": {
  "kernelspec": {
   "display_name": "Python 3",
   "language": "python",
   "name": "python3"
  },
  "language_info": {
   "codemirror_mode": {
    "name": "ipython",
    "version": 3
   },
   "file_extension": ".py",
   "mimetype": "text/x-python",
   "name": "python",
   "nbconvert_exporter": "python",
   "pygments_lexer": "ipython3",
   "version": "3.6.5"
  }
 },
 "nbformat": 4,
 "nbformat_minor": 2
}
