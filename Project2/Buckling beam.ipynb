{
 "cells": [
  {
   "cell_type": "code",
   "execution_count": 1,
   "metadata": {},
   "outputs": [],
   "source": [
    "# Buckling beam\n",
    "# Libraries\n",
    "import numpy as np\n",
    "import math\n",
    "import scipy.linalg as cpy\n",
    "from jtools import *\n",
    "import time\n",
    "# import sys, os"
   ]
  },
  {
   "cell_type": "code",
   "execution_count": 2,
   "metadata": {},
   "outputs": [],
   "source": [
    "def bbeam(size = 10, f_out = \"results_\"):\n",
    "    f_out = f_out + str(size)\n",
    "    step2 = (1. / (size + 1))**2\n",
    "    Aux = np.zeros(size)\n",
    "    Aux[0] = 2. / step2\n",
    "    Aux[1] = -1. / step2\n",
    "    toe = cpy.toeplitz(Aux)\n",
    "    #print(toe)\n",
    "    return(toe, size, f_out)"
   ]
  },
  {
   "cell_type": "code",
   "execution_count": 3,
   "metadata": {
    "scrolled": true
   },
   "outputs": [],
   "source": [
    "A,m,f_out = bbeam(10)\n",
    "Mdiag = A[0,0]\n",
    "offD = A[0,1]"
   ]
  },
  {
   "cell_type": "code",
   "execution_count": 4,
   "metadata": {},
   "outputs": [],
   "source": [
    "lam,V = jacobiT(A,m)\n",
    "del A"
   ]
  },
  {
   "cell_type": "code",
   "execution_count": 5,
   "metadata": {},
   "outputs": [],
   "source": [
    "# Compute exact values\n",
    "exact = np.zeros(m)\n",
    "for ii in range(m):\n",
    "    exact[ii] = Mdiag + 2 * offD * math.cos((ii + 1) * math.pi * (1. / (m + 1)))"
   ]
  },
  {
   "cell_type": "code",
   "execution_count": 6,
   "metadata": {},
   "outputs": [],
   "source": [
    "# Create and output file with the eigenvalues\n",
    "Aux = np.hstack((lam.reshape(lam.shape+(1,)),exact.reshape(exact.shape+(1,)),abs(lam.reshape(lam.shape+(1,))-exact.reshape(exact.shape+(1,)))))\n",
    "np.savetxt(f_out, Aux, fmt='%-18.6f', delimiter=' ')"
   ]
  }
 ],
 "metadata": {
  "kernelspec": {
   "display_name": "Python 3",
   "language": "python",
   "name": "python3"
  },
  "language_info": {
   "codemirror_mode": {
    "name": "ipython",
    "version": 3
   },
   "file_extension": ".py",
   "mimetype": "text/x-python",
   "name": "python",
   "nbconvert_exporter": "python",
   "pygments_lexer": "ipython3",
   "version": "3.6.5"
  }
 },
 "nbformat": 4,
 "nbformat_minor": 2
}
