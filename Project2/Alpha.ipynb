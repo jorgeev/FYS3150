{
 "cells": [
  {
   "cell_type": "code",
   "execution_count": 1,
   "metadata": {},
   "outputs": [],
   "source": [
    "# Eigenvalue problems\n",
    "# Libraries\n",
    "import numpy as np\n",
    "import math\n",
    "import scipy.linalg as cpy\n",
    "# import time\n",
    "# import sys, os"
   ]
  },
  {
   "cell_type": "code",
   "execution_count": 2,
   "metadata": {},
   "outputs": [],
   "source": [
    "# Parameters for testing\n",
    "def initialize(n = 5, tol = 1e-10):\n",
    "    Aux = np.zeros(n)\n",
    "    Aux[0] = 2. \n",
    "    Aux[1] = -1.\n",
    "    toe = cpy.toeplitz(Aux)\n",
    "    print(toe)\n",
    "    return(toe, n, tol)\n",
    "\n",
    "# Search function (returns largest nondiag value and position in matrix)\n",
    "def tracking(A,m):\n",
    "    Mval = 0\n",
    "    for ii in range(0,m):\n",
    "        for jj in range(ii+1,m):\n",
    "            if abs(A[ii,jj]) > abs(Mval):\n",
    "                Mval = A[ii,jj]\n",
    "                row = ii\n",
    "                col = jj\n",
    "    return(row, col, Mval)\n",
    "\n",
    "def rotation(A, V, m, row, col):\n",
    "    \n",
    "    # Ang calculation\n",
    "    tau = (A[col,col] - A[row,row]) / (2. * A[row,col])\n",
    "    t = 1. / (abs(tau) + math.sqrt(tau**2 + 1.))\n",
    "    if tau < 0:\n",
    "        t = -t\n",
    "    c = 1. / math.sqrt(1. + t**2)\n",
    "    s = c * t\n",
    "    \n",
    "    # Allocation original values\n",
    "    a_row = A[row,row]\n",
    "    a_col = A[col,col]\n",
    "    \n",
    "    # Rotating eigenvalues\n",
    "    A[row,row] = (a_row * c**2) + (a_col * s**2) - (2. * A[row,col] * s * c)\n",
    "    A[col,col] = (a_row * s**2) + (a_col * c**2) + (2. * A[row,col] * s * c)\n",
    "    A[col,row] = A[row,col] = 0.\n",
    "    for ii in range(m):\n",
    "        if ii != row and ii != col:\n",
    "                a_row = A[ii,row]\n",
    "                a_col = A[ii,col]\n",
    "                A[ii,row] = A[row,ii] = a_row * c - a_col * s\n",
    "                A[ii,col] = A[col,ii] = a_col * c + a_row * s\n",
    "                \n",
    "    # Calculating eigenvectors\n",
    "    for ii in range(m):\n",
    "        v_row = V[ii,row]\n",
    "        v_col = V[ii,col]\n",
    "        V[ii,row] = v_row * c - v_col * s\n",
    "        V[ii,col] = v_col * c + v_row * s\n",
    "\n",
    "    return(A,V)\n",
    "\n",
    "def sorting(lam,V,m):\n",
    "    for ii in range(m-1):\n",
    "        index = ii\n",
    "        val = lam[ii]\n",
    "        for jj in range(ii+1,m):\n",
    "            if lam[jj] < val:\n",
    "                index = jj\n",
    "                val = lam[jj]\n",
    "        if index != ii:\n",
    "            sortvalue(lam,ii,index)\n",
    "            sortvector(V,ii,index)\n",
    "    return(lam,V)\n",
    "\n",
    "def sortvalue(vec,ii,jj):\n",
    "    auxi = vec[ii]\n",
    "    auxj = vec[jj]\n",
    "    vec[ii] = auxj\n",
    "    vec[jj] = auxi\n",
    "    return(vec,ii,jj)\n",
    "\n",
    "def sortvector(vec,ii,jj):\n",
    "    vec[:,[ii,jj]] = vec[:,[jj,ii]]"
   ]
  },
  {
   "cell_type": "code",
   "execution_count": 3,
   "metadata": {},
   "outputs": [
    {
     "name": "stdout",
     "output_type": "stream",
     "text": [
      "[[ 2. -1.  0.]\n",
      " [-1.  2. -1.]\n",
      " [ 0. -1.  2.]]\n"
     ]
    }
   ],
   "source": [
    "# Load initial parameters\n",
    "A, m, tol = initialize()\n",
    "# A = np.array([[4.,2.,0.,0.], [2.,4.,1.,0], [0.,1.,3.,1], [0.,0.,1.,5.]])"
   ]
  },
  {
   "cell_type": "code",
   "execution_count": 4,
   "metadata": {},
   "outputs": [],
   "source": [
    "#row,col, mval = tracking(A,m)"
   ]
  },
  {
   "cell_type": "code",
   "execution_count": 5,
   "metadata": {},
   "outputs": [],
   "source": [
    "#A = rotation(A,m,col,row)\n",
    "#print(A)"
   ]
  },
  {
   "cell_type": "code",
   "execution_count": 6,
   "metadata": {},
   "outputs": [
    {
     "name": "stdout",
     "output_type": "stream",
     "text": [
      "===================================================\n",
      "[0.58578644 3.41421356 2.        ]\n"
     ]
    }
   ],
   "source": [
    "V = np.identity(m,float)\n",
    "mval = 1\n",
    "ii = 0\n",
    "while abs(mval) > tol:\n",
    "    row,col,mval = tracking(A,m)\n",
    "    A,V = rotation(A,V,m,col,row)\n",
    "    ii += 1\n",
    "    #print(\"Iteration: \", ii, \"Max_val = \", mval)\n",
    "    #print(A)\n",
    "    #print(\"============================================\")\n",
    "lam = np.diag(A)\n",
    "lam.setflags(write=1)\n",
    "print(\"===================================================\")\n",
    "print(lam)"
   ]
  },
  {
   "cell_type": "code",
   "execution_count": 7,
   "metadata": {},
   "outputs": [
    {
     "name": "stdout",
     "output_type": "stream",
     "text": [
      "[0.58578644 2.         3.41421356]\n"
     ]
    }
   ],
   "source": [
    "lam,V=sorting(lam,V,m)\n",
    "print(lam)"
   ]
  },
  {
   "cell_type": "code",
   "execution_count": 8,
   "metadata": {},
   "outputs": [
    {
     "name": "stdout",
     "output_type": "stream",
     "text": [
      "[0.5        0.70710678 0.5       ]\n",
      "[-7.07106781e-01  3.25218477e-16  7.07106781e-01]\n",
      "[-0.5         0.70710678 -0.5       ]\n"
     ]
    }
   ],
   "source": [
    "for n in range(m):\n",
    "    print(V[:,n])"
   ]
  },
  {
   "cell_type": "code",
   "execution_count": 9,
   "metadata": {},
   "outputs": [
    {
     "name": "stdout",
     "output_type": "stream",
     "text": [
      "[[ 5.00000000e-01 -7.07106781e-01 -5.00000000e-01]\n",
      " [ 7.07106781e-01  3.25218477e-16  7.07106781e-01]\n",
      " [ 5.00000000e-01  7.07106781e-01 -5.00000000e-01]]\n"
     ]
    }
   ],
   "source": [
    "print(V)"
   ]
  },
  {
   "cell_type": "code",
   "execution_count": null,
   "metadata": {},
   "outputs": [],
   "source": []
  }
 ],
 "metadata": {
  "kernelspec": {
   "display_name": "Python 3",
   "language": "python",
   "name": "python3"
  },
  "language_info": {
   "codemirror_mode": {
    "name": "ipython",
    "version": 3
   },
   "file_extension": ".py",
   "mimetype": "text/x-python",
   "name": "python",
   "nbconvert_exporter": "python",
   "pygments_lexer": "ipython3",
   "version": "3.6.5"
  }
 },
 "nbformat": 4,
 "nbformat_minor": 2
}
