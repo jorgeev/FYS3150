{
 "cells": [
  {
   "cell_type": "code",
   "execution_count": 1,
   "metadata": {},
   "outputs": [],
   "source": [
    "# Libraries\n",
    "import numpy as np\n",
    "import math\n",
    "import scipy.linalg as cpy\n",
    "# import time"
   ]
  },
  {
   "cell_type": "code",
   "execution_count": 2,
   "metadata": {},
   "outputs": [],
   "source": [
    "def initialize():\n",
    "    size = 1000\n",
    "    ftime = 1.\n",
    "    step = ftime / size\n",
    "    time = 0.\n",
    "    # Initial values\n",
    "    pi4 = 4. * math.pi**2\n",
    "    x = 1.; y = 0.\n",
    "    vx = 0.; vy = 2. * math.pi\n",
    "    r = math.sqrt(x**2 + y**2)\n",
    "    return(x,y,vx,vy,r,ftime,time,step,size,pi4)\n",
    "    \n",
    "def to_file(time, x, y, vx, vy, fout):\n",
    "    aux = str('{0:0.4f} {1: 3.8f} {2: 3.8f} {3: 3.8f} {4: 3.8f}\\n'.format(time, x, y, vx, vy))\n",
    "    fout.write(aux)"
   ]
  },
  {
   "cell_type": "markdown",
   "metadata": {},
   "source": [
    "# Euler Method"
   ]
  },
  {
   "cell_type": "code",
   "execution_count": 3,
   "metadata": {},
   "outputs": [],
   "source": [
    "# Functions for Euler Method\n",
    "def Euler_method(x,y,vx,vy,r,ftime,time,step,pi4,fout):\n",
    "    while time <= ftime:\n",
    "        x += step * vx\n",
    "        y += step * vy\n",
    "        vx -= step * pi4 * x / r**3\n",
    "        vy -= step * pi4 * y / r**3\n",
    "        r = math.sqrt(x**2 + y**2)\n",
    "        time += step\n",
    "        to_file(time, x, y, vx, vy, fout)\n",
    "    fout.close()"
   ]
  },
  {
   "cell_type": "code",
   "execution_count": 4,
   "metadata": {},
   "outputs": [],
   "source": [
    "x,y,vx,vy,r,ftime,time,step,size,pi4 = initialize()\n",
    "\n",
    "fnm = \"Euler_w\"\n",
    "fname = fnm + str(size)\n",
    "fout = open(fname,\"w\")\n",
    "\n",
    "to_file(time, x, y, vx, vy, fout)\n",
    "Euler_method(x,y,vx,vy,r,ftime,time,step,pi4,fout)"
   ]
  },
  {
   "cell_type": "markdown",
   "metadata": {},
   "source": [
    "# Verlet Method"
   ]
  },
  {
   "cell_type": "code",
   "execution_count": 5,
   "metadata": {},
   "outputs": [],
   "source": [
    "def Verlet_method():\n",
    "    return 0"
   ]
  },
  {
   "cell_type": "code",
   "execution_count": null,
   "metadata": {},
   "outputs": [],
   "source": []
  }
 ],
 "metadata": {
  "kernelspec": {
   "display_name": "Python 3",
   "language": "python",
   "name": "python3"
  },
  "language_info": {
   "codemirror_mode": {
    "name": "ipython",
    "version": 3
   },
   "file_extension": ".py",
   "mimetype": "text/x-python",
   "name": "python",
   "nbconvert_exporter": "python",
   "pygments_lexer": "ipython3",
   "version": "3.6.5"
  }
 },
 "nbformat": 4,
 "nbformat_minor": 2
}
