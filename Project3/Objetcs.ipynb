{
 "cells": [
  {
   "cell_type": "code",
   "execution_count": 1,
   "metadata": {},
   "outputs": [],
   "source": [
    "# Libraries\n",
    "import numpy as np\n",
    "import math\n",
    "import scipy.linalg as cpy\n",
    "from astroquery.jplhorizons import Horizons\n",
    "from astroquery.jplhorizons import conf\n",
    "conf.horizons_server = 'https://ssd.jpl.nasa.gov/horizons_batch.cgi'\n",
    "#obj = Horizons(id='399', id_type= 'majorbody', epochs={'start':'2018-10-16', 'stop':'2018-10-17','step':'1d'})\n",
    "#vec = obj.vectors()\n",
    "#print(vec.info)"
   ]
  },
  {
   "cell_type": "code",
   "execution_count": 2,
   "metadata": {},
   "outputs": [],
   "source": [
    "def get_planet(p_id,mss):\n",
    "    obj = Horizons(id=p_id, id_type= 'majorbody', epochs={'start':'2018-10-16', 'stop':'2018-10-17','step':'1d'})\n",
    "    vec = obj.vectors()\n",
    "    return Body(vec['targetname'][0],[vec['x'][0],vec['y'][0],vec['z'][0]],[vec['vx'][0],vec['vy'][0],vec['vz'][0]],mss)\n",
    "    \n",
    "class Body:\n",
    "    kind = 'Planet'\n",
    "    name = 'Unnamed'\n",
    "    k_energy = 0\n",
    "    p_energy = 0\n",
    "    velocity = [0.,0.,0.]\n",
    "    \n",
    "    def __init__(self, name, xyz, velocity, mass):\n",
    "        self.name = name\n",
    "        self.xyz = xyz\n",
    "        self.velocity = velocity\n",
    "        self.mass = mass"
   ]
  },
  {
   "cell_type": "code",
   "execution_count": 3,
   "metadata": {},
   "outputs": [],
   "source": [
    "# Allocaring Initial Planets Positions, Velocities, Masses,etc...\n",
    "P1 = get_planet('199', 3.302e23)        # Mercury\n",
    "P2 = get_planet('299', 48.685e23)       # Venus\n",
    "P3 = get_planet('399', 5.97219e24)      # Earth\n",
    "P4 = get_planet('499', 6.4171e23)       # Mars\n",
    "P5 = get_planet('599', 1898.13e24)      # Jupiter\n",
    "P6 = get_planet('699', 5.6834e26)       # Saturn\n",
    "P7 = get_planet('799', 86.813e24)       # Uranus\n",
    "P8 = get_planet('899', 102.413e24)      # Neptune\n",
    "P9 = get_planet('999', 1.307e22)        # Pluton\n",
    "# Allocating the Sun\n",
    "Sun = get_planet('10',1988500e24)\n",
    "Sun.kind = 'Star'"
   ]
  },
  {
   "cell_type": "code",
   "execution_count": 4,
   "metadata": {},
   "outputs": [
    {
     "name": "stdout",
     "output_type": "stream",
     "text": [
      "3.302e+23 4.8685e+24 5.97219e+24\n",
      "6.4171e+23 1.89813e+27 5.6834e+26\n",
      "8.6813e+25 1.02413e+26 1.307e+22\n"
     ]
    }
   ],
   "source": [
    "print(P1.mass,P2.mass,P3.mass)\n",
    "print(P4.mass,P5.mass,P6.mass)\n",
    "print(P7.mass,P8.mass,P9.mass)"
   ]
  },
  {
   "cell_type": "code",
   "execution_count": 6,
   "metadata": {},
   "outputs": [
    {
     "name": "stdout",
     "output_type": "stream",
     "text": [
      "1.9885e+30\n"
     ]
    }
   ],
   "source": [
    "print(Sun.mass)"
   ]
  },
  {
   "cell_type": "code",
   "execution_count": null,
   "metadata": {},
   "outputs": [],
   "source": []
  },
  {
   "cell_type": "code",
   "execution_count": null,
   "metadata": {},
   "outputs": [],
   "source": []
  },
  {
   "cell_type": "code",
   "execution_count": null,
   "metadata": {},
   "outputs": [],
   "source": []
  },
  {
   "cell_type": "code",
   "execution_count": null,
   "metadata": {},
   "outputs": [],
   "source": []
  },
  {
   "cell_type": "code",
   "execution_count": null,
   "metadata": {},
   "outputs": [],
   "source": []
  },
  {
   "cell_type": "code",
   "execution_count": null,
   "metadata": {},
   "outputs": [],
   "source": []
  }
 ],
 "metadata": {
  "kernelspec": {
   "display_name": "Python 3",
   "language": "python",
   "name": "python3"
  },
  "language_info": {
   "codemirror_mode": {
    "name": "ipython",
    "version": 3
   },
   "file_extension": ".py",
   "mimetype": "text/x-python",
   "name": "python",
   "nbconvert_exporter": "python",
   "pygments_lexer": "ipython3",
   "version": "3.6.5"
  }
 },
 "nbformat": 4,
 "nbformat_minor": 2
}
