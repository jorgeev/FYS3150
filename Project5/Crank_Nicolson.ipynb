{
 "cells": [
  {
   "cell_type": "code",
   "execution_count": 1,
   "metadata": {},
   "outputs": [],
   "source": [
    "#! /usr/bin/python\n",
    "# -*- coding: utf-8 -*-\n",
    "# ~.py\n",
    "\n",
    "# Version: 2018.11.29.01\n",
    "\n",
    "# Requiered libraries\n",
    "import sys, os, math, time\n",
    "import numpy as np\n",
    "import scipy.linalg as cp\n",
    "import matplotlib.pyplot as plt\n",
    "from numba import jit, njit, prange"
   ]
  },
  {
   "cell_type": "code",
   "execution_count": 2,
   "metadata": {},
   "outputs": [],
   "source": [
    "def crank_nicolson(alpha,u,N,T):\n",
    "    N = N+1\n",
    "    aux = np.zeros(N)\n",
    "    aux[0] = 1.+alpha\n",
    "    aux[1] = -alpha/2\n",
    "    A = cp.toeplitz(aux)\n",
    "    A[0] = A[-1]= 0\n",
    "    A[0,0] = A[-1,-1] = 1\n",
    "    A = cp.inv(A, overwrite_a=True, check_finite=True)\n",
    "    for t in range(1,T):\n",
    "        forward_step(alpha/2,u[t],u[t-1],N)\n",
    "        u[t] = A@u[t]\n",
    "    return(u)\n",
    "\n",
    "def forward_step(alpha,u,uPrev,N):\n",
    "    betta = 1.-2.*alpha\n",
    "    for x in range(1,N-1): #loop from i=1 to i=N\n",
    "        u[x] = alpha*uPrev[x-1] + betta*uPrev[x] + alpha*uPrev[x+1]"
   ]
  },
  {
   "cell_type": "code",
   "execution_count": 3,
   "metadata": {},
   "outputs": [
    {
     "name": "stdout",
     "output_type": "stream",
     "text": [
      "alpha =\n",
      " 0.4999999999999999\n",
      "x =\n",
      " [0.  0.1 0.2 0.3 0.4 0.5 0.6 0.7 0.8 0.9 1. ]\n",
      "u[0] =\n",
      " [0. 0. 0. 0. 0. 0. 0. 0. 0. 0. 1.]\n"
     ]
    }
   ],
   "source": [
    "N = 10\n",
    "dt = 5e-3\n",
    "T = 400\n",
    "\n",
    "u = np.zeros((T,N+1), np.double)\n",
    "(x,dx) = np.linspace(0,1,N+1, retstep=True)\n",
    "alpha = dt/dx**2\n",
    "u[0,0] = 0.\n",
    "u[:,-1] = 1.\n",
    "print(\"alpha =\\n\",alpha)\n",
    "print(\"x =\\n\",x)\n",
    "print(\"u[0] =\\n\",u[0,:])"
   ]
  },
  {
   "cell_type": "code",
   "execution_count": 4,
   "metadata": {},
   "outputs": [
    {
     "name": "stdout",
     "output_type": "stream",
     "text": [
      "0.03935050964355469\n",
      "Explicit0 =\n",
      " [0. 0. 0. 0. 0. 0. 0. 0. 0. 0. 1.]\n",
      "Explicit1 =\n",
      " [0.00000000e+00 2.50087093e-07 1.50052256e-06 8.75304825e-06\n",
      " 5.10177669e-05 2.97353553e-04 1.73310355e-03 1.01012678e-02\n",
      " 5.88745030e-02 3.43145751e-01 1.00000000e+00]\n",
      "Explicitn =\n",
      " [0.  0.1 0.2 0.3 0.4 0.5 0.6 0.7 0.8 0.9 1. ]\n"
     ]
    }
   ],
   "source": [
    "t0 = time.time()\n",
    "sol = crank_nicolson(alpha,u,N,T)\n",
    "t1 = time.time()\n",
    "print(t1-t0)\n",
    "print(\"Explicit0 =\\n\",sol[0,:])\n",
    "print(\"Explicit1 =\\n\",sol[1,:])\n",
    "print(\"Explicitn =\\n\",sol[-1,:])"
   ]
  },
  {
   "cell_type": "code",
   "execution_count": 5,
   "metadata": {},
   "outputs": [
    {
     "data": {
      "image/png": "[encoded data removed]",
      "text/plain": [
       "<Figure size 432x288 with 1 Axes>"
      ]
     },
     "metadata": {},
     "output_type": "display_data"
    }
   ],
   "source": [
    "#%matplotlib qt\n",
    "plt.plot(x,sol[0,:], '-', label = \"t=0\")\n",
    "plt.plot(x,sol[1,:], '-', label = \"t=5e-3\")\n",
    "plt.plot(x,sol[-1,:], '-', label = \"t=1\")\n",
    "plt.legend(loc='best')\n",
    "plt.show()"
   ]
  },
  {
   "cell_type": "code",
   "execution_count": 6,
   "metadata": {},
   "outputs": [
    {
     "name": "stdout",
     "output_type": "stream",
     "text": [
      "[0. 0. 0. 0. 0. 0. 0. 0. 0. 0. 1.]\n",
      "[0.00000000e+00 2.50087093e-07 1.50052256e-06 8.75304825e-06\n",
      " 5.10177669e-05 2.97353553e-04 1.73310355e-03 1.01012678e-02\n",
      " 5.88745030e-02 3.43145751e-01 1.00000000e+00]\n",
      "[0.  0.1 0.2 0.3 0.4 0.5 0.6 0.7 0.8 0.9 1. ]\n"
     ]
    }
   ],
   "source": [
    "print(sol[0])\n",
    "print(sol[1])\n",
    "print(sol[-1])"
   ]
  }
 ],
 "metadata": {
  "kernelspec": {
   "display_name": "Python 3",
   "language": "python",
   "name": "python3"
  },
  "language_info": {
   "codemirror_mode": {
    "name": "ipython",
    "version": 3
   },
   "file_extension": ".py",
   "mimetype": "text/x-python",
   "name": "python",
   "nbconvert_exporter": "python",
   "pygments_lexer": "ipython3",
   "version": "3.6.5"
  }
 },
 "nbformat": 4,
 "nbformat_minor": 2
}
