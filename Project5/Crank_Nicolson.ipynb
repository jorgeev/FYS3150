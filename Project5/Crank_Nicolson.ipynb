{
 "cells": [
  {
   "cell_type": "code",
   "execution_count": 1,
   "metadata": {},
   "outputs": [],
   "source": [
    "#! /usr/bin/python\n",
    "# -*- coding: utf-8 -*-\n",
    "# ~.py\n",
    "\n",
    "# Version: 2018.11.29.01\n",
    "\n",
    "# Requiered libraries\n",
    "import sys, os, math, time\n",
    "import numpy as np\n",
    "import scipy.linalg as cpy\n",
    "import matplotlib.pyplot as plt\n",
    "from numba import jit, njit, prange"
   ]
  },
  {
   "cell_type": "code",
   "execution_count": 2,
   "metadata": {},
   "outputs": [],
   "source": [
    "@njit()\n",
    "def g(x):\n",
    "    return np.sin(math.pi*x)\n",
    "\n",
    "@njit()\n",
    "def crank_nicolson(X,T,u,alpha):\n",
    "    for ii in range(1,T):\n",
    "        for jj in prange(1,X):\n",
    "            u[ii,jj] = alpha*u[ii-1,jj-1] + (1.-2.*alpha)*u[ii-1,jj] + alpha*u[ii-1,jj+1]\n",
    "        \n",
    "        u[ii] = u[ii-1].copy()\n",
    "        D = (1.+2.*alpha) * np.ones(X-1)\n",
    "        off = -alpha * np.ones(X-2)\n",
    "\n",
    "        for jj in range(1,X-1):\n",
    "            off[jj-1] /= D[jj-1]\n",
    "            u[ii,jj] /= D[jj-1]\n",
    "            D[jj-1] = 1.\n",
    "            \n",
    "            u[ii,jj+1] += u[ii,jj]*alpha\n",
    "            D[jj] += off[jj-1]*alpha\n",
    "        \n",
    "        u[ii,X-1] /= D[X-2]\n",
    "        D[X-2] = 1.\n",
    "        for jj  in range(N-1,1,-1):\n",
    "            u[ii,jj-1] -= u[ii,jj] * off[jj-2]\n",
    "\n",
    "    return u"
   ]
  },
  {
   "cell_type": "code",
   "execution_count": 3,
   "metadata": {},
   "outputs": [
    {
     "name": "stdout",
     "output_type": "stream",
     "text": [
      "alpha =\n",
      " 0.4999999999999999\n",
      "x =\n",
      " [0.  0.1 0.2 0.3 0.4 0.5 0.6 0.7 0.8 0.9 1. ]\n",
      "u[0] =\n",
      " [0.         0.30901699 0.58778525 0.80901699 0.95105652 1.\n",
      " 0.95105652 0.80901699 0.58778525 0.30901699 0.        ]\n"
     ]
    }
   ],
   "source": [
    "N = 10\n",
    "dt = 5e-3\n",
    "T = 3\n",
    "\n",
    "u = np.zeros((T,N+1), np.double)\n",
    "(x,dx) = np.linspace(0,1,N+1, retstep=True)\n",
    "alpha = dt/dx**2\n",
    "u[0,:] = g(x)\n",
    "u[0,0] = u[0,-1] = 0.\n",
    "print(\"alpha =\\n\",alpha)\n",
    "print(\"x =\\n\",x)\n",
    "print(\"u[0] =\\n\",u[0,:])"
   ]
  },
  {
   "cell_type": "code",
   "execution_count": 4,
   "metadata": {},
   "outputs": [
    {
     "name": "stdout",
     "output_type": "stream",
     "text": [
      "0.4542241096496582\n",
      "Explicit0 =\n",
      " [0.         0.30901699 0.58778525 0.80901699 0.95105652 1.\n",
      " 0.95105652 0.80901699 0.58778525 0.30901699 0.        ]\n",
      "Explicit1 =\n",
      " [0.         0.29459833 0.56035932 0.77126843 0.90668042 0.95334021\n",
      " 0.90668042 0.77126843 0.56035932 0.29459833 0.        ]\n",
      "Explicitn =\n",
      " [0.         0.28085243 0.53421307 0.73528121 0.8643749  0.90885755\n",
      " 0.8643749  0.73528121 0.53421307 0.28085243 0.        ]\n"
     ]
    }
   ],
   "source": [
    "t0 = time.time()\n",
    "sol = crank_nicolson(N,T,u,alpha)\n",
    "t1 = time.time()\n",
    "print(t1-t0)\n",
    "print(\"Explicit0 =\\n\",sol[0,:])\n",
    "print(\"Explicit1 =\\n\",sol[1,:])\n",
    "print(\"Explicitn =\\n\",sol[-1,:])"
   ]
  },
  {
   "cell_type": "code",
   "execution_count": 5,
   "metadata": {},
   "outputs": [
    {
     "data": {
      "image/png": "[encoded data removed]",
      "text/plain": [
       "<Figure size 432x288 with 1 Axes>"
      ]
     },
     "metadata": {},
     "output_type": "display_data"
    }
   ],
   "source": [
    "#%matplotlib qt\n",
    "plt.plot(x,sol[0,:], '-', label = \"t=0\")\n",
    "plt.plot(x,sol[1,:], '-', label = \"t=5e-3\")\n",
    "plt.plot(x,sol[-1,:], '-', label = \"t=1\")\n",
    "plt.legend(loc='best')\n",
    "plt.show()"
   ]
  },
  {
   "cell_type": "code",
   "execution_count": 6,
   "metadata": {},
   "outputs": [
    {
     "name": "stdout",
     "output_type": "stream",
     "text": [
      "[[0.         0.30901699 0.58778525 0.80901699 0.95105652 1.\n",
      "  0.95105652 0.80901699 0.58778525 0.30901699 0.        ]\n",
      " [0.         0.29459833 0.56035932 0.77126843 0.90668042 0.95334021\n",
      "  0.90668042 0.77126843 0.56035932 0.29459833 0.        ]\n",
      " [0.         0.28085243 0.53421307 0.73528121 0.8643749  0.90885755\n",
      "  0.8643749  0.73528121 0.53421307 0.28085243 0.        ]]\n"
     ]
    }
   ],
   "source": [
    "print(sol)"
   ]
  },
  {
   "cell_type": "code",
   "execution_count": null,
   "metadata": {},
   "outputs": [],
   "source": []
  }
 ],
 "metadata": {
  "kernelspec": {
   "display_name": "Python 3",
   "language": "python",
   "name": "python3"
  },
  "language_info": {
   "codemirror_mode": {
    "name": "ipython",
    "version": 3
   },
   "file_extension": ".py",
   "mimetype": "text/x-python",
   "name": "python",
   "nbconvert_exporter": "python",
   "pygments_lexer": "ipython3",
   "version": "3.6.5"
  }
 },
 "nbformat": 4,
 "nbformat_minor": 2
}
