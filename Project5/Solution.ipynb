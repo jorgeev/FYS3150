{
 "cells": [
  {
   "cell_type": "code",
   "execution_count": 7,
   "metadata": {},
   "outputs": [],
   "source": [
    "import math, numpy\n",
    "import numpy as np\n",
    "from matplotlib import pyplot as plt\n",
    "from numba import njit"
   ]
  },
  {
   "cell_type": "code",
   "execution_count": 8,
   "metadata": {},
   "outputs": [],
   "source": [
    "def v(x,t,n):\n",
    "    Bn = (n*math.pi*math.cos(n*math.pi) - math.sin(n*math.pi))/((n*math.pi)**2)\n",
    "    serie = math.sin(n*math.pi*x)*math.exp(-t*(n*math.pi)**2)\n",
    "    return Bn*serie\n",
    "def v2d(x,y,t,n):\n",
    "    Bn = (-16*math.sin(math.pi*n/2))/(math.pi*n)**2\n",
    "    serie = math.sin(n*math.pi*x)*math.sin(n*math.pi*y)*math.exp(-t*2*(n*math.pi)**2)\n",
    "    return Bn*serie\n",
    "\n",
    "#@njit()\n",
    "def aprox(L,t,sol2d,nx):\n",
    "    for xx in range(101):\n",
    "        for yy in range(101):\n",
    "            for nn in range(1,nx):\n",
    "#                for mm in range(1,nx):\n",
    "                sol2d[xx,yy] += v2d(L[xx], L[yy], t, nn)\n",
    "            sol2d[xx,yy] += 1\n",
    "    return sol2d\n",
    "    "
   ]
  },
  {
   "cell_type": "code",
   "execution_count": 9,
   "metadata": {},
   "outputs": [],
   "source": [
    "L=np.linspace(0,1,101)\n",
    "#sol = np.zeros(101)\n",
    "nx = 100\n",
    "t = 0.1\n",
    "sol2d = np.zeros([101,101])"
   ]
  },
  {
   "cell_type": "raw",
   "metadata": {},
   "source": [
    "for xx in range(11):\n",
    "    for nn in range(1,nx+1):\n",
    "        sol[xx]+=v(L[xx],0.15,nn)\n",
    "    sol[xx] *= 2\n",
    "    sol[xx] += L[xx]\n",
    "print(sol)"
   ]
  },
  {
   "cell_type": "raw",
   "metadata": {},
   "source": [
    "L=np.linspace(0,1,11)\n",
    "sol = np.zeros(11)\n",
    "nx = 100000\n",
    "for xx in range(11):\n",
    "    for nn in range(1,nx+1):\n",
    "        sol[xx]+=v(L[xx],0.2,nn)\n",
    "    sol[xx] *= 2\n",
    "    sol[xx] += L[xx]\n",
    "print(sol)"
   ]
  },
  {
   "cell_type": "raw",
   "metadata": {},
   "source": [
    "plt.plot(L,sol)"
   ]
  },
  {
   "cell_type": "raw",
   "metadata": {},
   "source": [
    "for xx in range(101):\n",
    "    for yy in range(101):\n",
    "        for nn in range(1,1000):\n",
    "            sol2d[xx,yy] += v2d(L[xx], L[yy], 0., nn)\n",
    "        sol2d[xx,yy] *= 2\n",
    "        sol2d[xx,yy] += 1"
   ]
  },
  {
   "cell_type": "code",
   "execution_count": 10,
   "metadata": {},
   "outputs": [],
   "source": [
    "sol2d = aprox(L,t,sol2d,nx)"
   ]
  },
  {
   "cell_type": "code",
   "execution_count": 11,
   "metadata": {},
   "outputs": [
    {
     "name": "stdout",
     "output_type": "stream",
     "text": [
      "[[1.         1.         1.         ... 1.         1.         1.        ]\n",
      " [1.         0.99977782 0.99955585 ... 0.99955585 0.99977782 1.        ]\n",
      " [1.         0.99955585 0.99911214 ... 0.99911214 0.99955585 1.        ]\n",
      " ...\n",
      " [1.         0.99955585 0.99911214 ... 0.99911214 0.99955585 1.        ]\n",
      " [1.         0.99977782 0.99955585 ... 0.99955585 0.99977782 1.        ]\n",
      " [1.         1.         1.         ... 1.         1.         1.        ]]\n"
     ]
    }
   ],
   "source": [
    "print(sol2d)"
   ]
  },
  {
   "cell_type": "code",
   "execution_count": 12,
   "metadata": {},
   "outputs": [
    {
     "data": {
      "text/plain": [
       "<matplotlib.colorbar.Colorbar at 0x7f0891576a90>"
      ]
     },
     "execution_count": 12,
     "metadata": {},
     "output_type": "execute_result"
    },
    {
     "data": {
      "image/png": "[encoded data removed]",
      "text/plain": [
       "<Figure size 432x288 with 2 Axes>"
      ]
     },
     "metadata": {},
     "output_type": "display_data"
    }
   ],
   "source": [
    "im=plt.pcolormesh(sol2d,cmap='jet',vmin=0., vmax=1.)\n",
    "plt.colorbar(im)"
   ]
  },
  {
   "cell_type": "code",
   "execution_count": null,
   "metadata": {},
   "outputs": [],
   "source": []
  }
 ],
 "metadata": {
  "kernelspec": {
   "display_name": "Python 3",
   "language": "python",
   "name": "python3"
  },
  "language_info": {
   "codemirror_mode": {
    "name": "ipython",
    "version": 3
   },
   "file_extension": ".py",
   "mimetype": "text/x-python",
   "name": "python",
   "nbconvert_exporter": "python",
   "pygments_lexer": "ipython3",
   "version": "3.6.5"
  }
 },
 "nbformat": 4,
 "nbformat_minor": 2
}
