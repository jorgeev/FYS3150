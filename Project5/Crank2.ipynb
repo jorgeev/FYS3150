{
 "cells": [
  {
   "cell_type": "code",
   "execution_count": 1,
   "metadata": {},
   "outputs": [],
   "source": [
    "#! /usr/bin/python\n",
    "# -*- coding: utf-8 -*-\n",
    "# ~.py\n",
    "\n",
    "# Version: 2018.11.29.01\n",
    "\n",
    "# Requiered libraries\n",
    "import sys, os, math, time\n",
    "import numpy as np\n",
    "import scipy.linalg as cpy\n",
    "import matplotlib.pyplot as plt\n",
    "from numba import jit, njit, prange"
   ]
  },
  {
   "cell_type": "code",
   "execution_count": 2,
   "metadata": {},
   "outputs": [],
   "source": [
    "def D1CN(dt,dx,ic,alpha,X,T,N):\n",
    "    r = dt*(alpha/dx)**2\n",
    "    aux = np.zeros(N+1)\n",
    "    aux[0] = 2*(1+r)\n",
    "    aux[1] = -r\n",
    "    A = cpy.toeplitz(aux)\n",
    "    A[0]=A[-1]=0\n",
    "    A[0,0]= A[-1,-1]=1\n",
    "    aux[0] = 2*(1-r)\n",
    "    aux[1] = r\n",
    "    \n",
    "    B = cpy.toeplitz(aux)\n",
    "    A[0] = A[-1] = B[0] = B[-1] = 0\n",
    "    A[0,0] = A[-1,-1] = B[0,0] = B[-1,-1] = 1\n",
    "    C = np.linalg.solve(A,B)\n",
    "    ic = C@ic\n",
    "    return np.transpose(ic)"
   ]
  },
  {
   "cell_type": "code",
   "execution_count": 3,
   "metadata": {},
   "outputs": [
    {
     "name": "stdout",
     "output_type": "stream",
     "text": [
      "alpha =\n",
      " 0.4999999999999999\n",
      "x =\n",
      " [0.  0.1 0.2 0.3 0.4 0.5 0.6 0.7 0.8 0.9 1. ]\n",
      "u[0] =\n",
      " [[0. 0. 0. ... 0. 0. 0.]\n",
      " [0. 0. 0. ... 0. 0. 0.]\n",
      " [0. 0. 0. ... 0. 0. 0.]\n",
      " ...\n",
      " [0. 0. 0. ... 0. 0. 0.]\n",
      " [0. 0. 0. ... 0. 0. 0.]\n",
      " [1. 0. 0. ... 0. 0. 0.]]\n"
     ]
    }
   ],
   "source": [
    "N = 10\n",
    "dt = 5e-3\n",
    "T = 400\n",
    "\n",
    "u = np.zeros((T,N+1), np.double)\n",
    "(x,dx) = np.linspace(0,1,N+1, retstep=True)\n",
    "\n",
    "alpha = dt/dx**2\n",
    "\n",
    "u[0,0] = 0.\n",
    "u[0,-1]= 1.\n",
    "u2 = u[0,:]\n",
    "u2 = u2.reshape(u2.shape+(1,))\n",
    "u = np.transpose(u)\n",
    "print(\"alpha =\\n\",alpha)\n",
    "print(\"x =\\n\",x)\n",
    "print(\"u[0] =\\n\",u)"
   ]
  },
  {
   "cell_type": "code",
   "execution_count": 4,
   "metadata": {},
   "outputs": [],
   "source": [
    "for ii in range(1,T):\n",
    "    t = np.transpose(u[:,ii-1])\n",
    "    t = t.reshape(t.shape+(1,))\n",
    "    t = D1CN(dt, dx, t, alpha, x, T, N)\n",
    "    u[::,ii] = t\n",
    "u = np.transpose(u)"
   ]
  },
  {
   "cell_type": "code",
   "execution_count": 5,
   "metadata": {},
   "outputs": [
    {
     "data": {
      "image/png": "[encoded data removed]",
      "text/plain": [
       "<Figure size 432x288 with 1 Axes>"
      ]
     },
     "metadata": {},
     "output_type": "display_data"
    }
   ],
   "source": [
    "plt.plot(x,u[0])\n",
    "plt.plot(x,u[1])\n",
    "'''plt.plot(x,u[:,2])\n",
    "plt.plot(x,u[:,3])\n",
    "plt.plot(x,u[:,4])\n",
    "plt.plot(x,u[:,5])\n",
    "plt.plot(x,u[:,6])\n",
    "#plt.plot(x,u[:,7])\n",
    "'''#plt.plot(x,u[:,8])\n",
    "plt.plot(x,u[-1], label = \"t=1\")\n",
    "plt.legend(loc='best')\n",
    "plt.show()"
   ]
  },
  {
   "cell_type": "code",
   "execution_count": 6,
   "metadata": {},
   "outputs": [
    {
     "name": "stdout",
     "output_type": "stream",
     "text": [
      "[0. 0. 0. 0. 0. 0. 0. 0. 0. 0. 1.]\n",
      "[0.00000000e+00 1.03358589e-11 1.86045459e-10 3.33848241e-09\n",
      " 5.99066379e-08 1.07498100e-06 1.92897514e-05 3.46140543e-04\n",
      " 6.21124003e-03 1.11456180e-01 1.00000000e+00]\n",
      "[0.         0.098521   0.19718677 0.29612792 0.3954481  0.49521385\n",
      " 0.5954481  0.69612792 0.79718677 0.898521   1.        ]\n"
     ]
    }
   ],
   "source": [
    "print(u[0])\n",
    "print(u[1])\n",
    "print(u[-1])"
   ]
  }
 ],
 "metadata": {
  "kernelspec": {
   "display_name": "Python 3",
   "language": "python",
   "name": "python3"
  },
  "language_info": {
   "codemirror_mode": {
    "name": "ipython",
    "version": 3
   },
   "file_extension": ".py",
   "mimetype": "text/x-python",
   "name": "python",
   "nbconvert_exporter": "python",
   "pygments_lexer": "ipython3",
   "version": "3.6.5"
  }
 },
 "nbformat": 4,
 "nbformat_minor": 2
}
