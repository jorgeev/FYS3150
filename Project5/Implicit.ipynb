{
 "cells": [
  {
   "cell_type": "code",
   "execution_count": 1,
   "metadata": {},
   "outputs": [
    {
     "name": "stdout",
     "output_type": "stream",
     "text": [
      "[0.  0.1 0.2 0.3 0.4 0.5 0.6 0.7 0.8 0.9 1. ] 0.1 0.4999999999999999\n"
     ]
    }
   ],
   "source": [
    "import numpy, sys, math\n",
    "from  matplotlib import pyplot as plt\n",
    "import numpy as np\n",
    "import scipy.linalg as cp\n",
    "\n",
    "def implicit(alpha,u,N,T):\n",
    "    N = N+1\n",
    "    aux = np.zeros(N)\n",
    "    aux[0] = 1.+2.*alpha\n",
    "    aux[1] = -alpha\n",
    "    A = cp.toeplitz(aux)\n",
    "    A[0] = A[-1]= 0\n",
    "    A[0,0] = A[-1,-1] = 1\n",
    "    A = cp.inv(A, overwrite_a=True, check_finite=True)\n",
    "    for ii in range(1,T):\n",
    "        uaux = u[ii-1]\n",
    "        tt = A@uaux\n",
    "        u[ii] = tt\n",
    "    return(u)\n",
    "\n",
    "N  =   10\n",
    "dt =   5e-3\n",
    "T =   400\n",
    "\n",
    "u = numpy.zeros((T,N+1),numpy.double)\n",
    "(x,dx) = numpy.linspace (0,1,N+1, retstep=True)\n",
    "alpha = dt/(dx**2)\n",
    "print(x,dx, alpha)\n",
    "\n",
    "#Initial coditions\n",
    "u[0,-1] = 1.\n",
    "#print(u)\n"
   ]
  },
  {
   "cell_type": "code",
   "execution_count": 2,
   "metadata": {},
   "outputs": [],
   "source": [
    "u = implicit(alpha,u,N,T)\n",
    "#print(u[-1])"
   ]
  },
  {
   "cell_type": "code",
   "execution_count": 3,
   "metadata": {},
   "outputs": [
    {
     "data": {
      "image/png": "[encoded data removed]",
      "text/plain": [
       "<Figure size 432x288 with 1 Axes>"
      ]
     },
     "metadata": {},
     "output_type": "display_data"
    }
   ],
   "source": [
    "plt.plot(x, u[0])\n",
    "plt.plot(x, u[1])\n",
    "#plt.plot(x, u[2])\n",
    "#plt.plot(x, u[3])\n",
    "plt.plot(x, u[-1])\n",
    "plt.show()"
   ]
  },
  {
   "cell_type": "code",
   "execution_count": 4,
   "metadata": {},
   "outputs": [
    {
     "name": "stdout",
     "output_type": "stream",
     "text": [
      "[0. 0. 0. 0. 0. 0. 0. 0. 0. 0. 1.]\n",
      "[0.00000000e+00 6.60868646e-06 2.64347458e-05 9.91302969e-05\n",
      " 3.70086442e-04 1.38121547e-03 5.15477544e-03 1.92378863e-02\n",
      " 7.17967697e-02 2.67949192e-01 1.00000000e+00]\n",
      "[0.  0.1 0.2 0.3 0.4 0.5 0.6 0.7 0.8 0.9 1. ]\n"
     ]
    }
   ],
   "source": [
    "print(u[0])\n",
    "print(u[1])\n",
    "print(u[-1])"
   ]
  }
 ],
 "metadata": {
  "kernelspec": {
   "display_name": "Python 3",
   "language": "python",
   "name": "python3"
  },
  "language_info": {
   "codemirror_mode": {
    "name": "ipython",
    "version": 3
   },
   "file_extension": ".py",
   "mimetype": "text/x-python",
   "name": "python",
   "nbconvert_exporter": "python",
   "pygments_lexer": "ipython3",
   "version": "3.6.5"
  }
 },
 "nbformat": 4,
 "nbformat_minor": 2
}
