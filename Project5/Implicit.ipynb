{
 "cells": [
  {
   "cell_type": "code",
   "execution_count": 1,
   "metadata": {},
   "outputs": [
    {
     "name": "stdout",
     "output_type": "stream",
     "text": [
      "[0.   0.01 0.02 0.03 0.04 0.05 0.06 0.07 0.08 0.09 0.1  0.11 0.12 0.13\n",
      " 0.14 0.15 0.16 0.17 0.18 0.19 0.2  0.21 0.22 0.23 0.24 0.25 0.26 0.27\n",
      " 0.28 0.29 0.3  0.31 0.32 0.33 0.34 0.35 0.36 0.37 0.38 0.39 0.4  0.41\n",
      " 0.42 0.43 0.44 0.45 0.46 0.47 0.48 0.49 0.5  0.51 0.52 0.53 0.54 0.55\n",
      " 0.56 0.57 0.58 0.59 0.6  0.61 0.62 0.63 0.64 0.65 0.66 0.67 0.68 0.69\n",
      " 0.7  0.71 0.72 0.73 0.74 0.75 0.76 0.77 0.78 0.79 0.8  0.81 0.82 0.83\n",
      " 0.84 0.85 0.86 0.87 0.88 0.89 0.9  0.91 0.92 0.93 0.94 0.95 0.96 0.97\n",
      " 0.98 0.99 1.  ] 0.01 0.5\n"
     ]
    }
   ],
   "source": [
    "import numpy, sys, math\n",
    "from  matplotlib import pyplot as plt\n",
    "import numpy as np\n",
    "import scipy.linalg as cp\n",
    "\n",
    "def implicit(alpha,u,N,T):\n",
    "    N = N+1\n",
    "    aux = np.zeros(N)\n",
    "    aux[0] = 1.+2.*alpha\n",
    "    aux[1] = -alpha\n",
    "    A = cp.toeplitz(aux)\n",
    "    A[0] = A[-1]= 0\n",
    "    A[0,0] = A[-1,-1] = 1\n",
    "    A = cp.inv(A, overwrite_a=True, check_finite=True)\n",
    "    for ii in range(1,T):\n",
    "        uaux = u[ii-1]\n",
    "        tt = A@uaux\n",
    "        u[ii] = tt\n",
    "    return(u)\n",
    "\n",
    "N  =   100\n",
    "dt =   5e-5\n",
    "T =   5000\n",
    "\n",
    "u = numpy.zeros((T,N+1),numpy.double)\n",
    "(x,dx) = numpy.linspace (0,1,N+1, retstep=True)\n",
    "alpha = dt/(dx**2)\n",
    "print(x,dx, alpha)\n",
    "\n",
    "#Initial coditions\n",
    "u[0,-1] = 1.\n",
    "#print(u)\n"
   ]
  },
  {
   "cell_type": "code",
   "execution_count": 2,
   "metadata": {},
   "outputs": [],
   "source": [
    "u = implicit(alpha,u,N,T)\n",
    "#print(u[-1])"
   ]
  },
  {
   "cell_type": "code",
   "execution_count": 3,
   "metadata": {},
   "outputs": [
    {
     "data": {
      "image/png": "[encoded data removed]",
      "text/plain": [
       "<Figure size 432x288 with 1 Axes>"
      ]
     },
     "metadata": {},
     "output_type": "display_data"
    }
   ],
   "source": [
    "plt.plot(x, u[0])\n",
    "plt.plot(x, u[1])\n",
    "#plt.plot(x, u[2])\n",
    "#plt.plot(x, u[3])\n",
    "plt.plot(x, u[-1])\n",
    "plt.show()"
   ]
  },
  {
   "cell_type": "code",
   "execution_count": 4,
   "metadata": {},
   "outputs": [],
   "source": [
    "#print(u[0])\n",
    "#print(u[1])\n",
    "#print(u[-1])"
   ]
  },
  {
   "cell_type": "code",
   "execution_count": 5,
   "metadata": {},
   "outputs": [
    {
     "data": {
      "text/plain": [
       "Text(0,0.5,'Time [dt]')"
      ]
     },
     "execution_count": 5,
     "metadata": {},
     "output_type": "execute_result"
    }
   ],
   "source": [
    "y = dt*np.linspace(0,T,T+1)\n",
    "%matplotlib qt\n",
    "fig, ax = plt.subplots()\n",
    "im = ax.pcolormesh(x,y,u,cmap='jet')\n",
    "cbar = fig.colorbar(im)\n",
    "plt.xlabel('Length [L]')\n",
    "plt.ylabel('Time [dt]')"
   ]
  }
 ],
 "metadata": {
  "kernelspec": {
   "display_name": "Python 3",
   "language": "python",
   "name": "python3"
  },
  "language_info": {
   "codemirror_mode": {
    "name": "ipython",
    "version": 3
   },
   "file_extension": ".py",
   "mimetype": "text/x-python",
   "name": "python",
   "nbconvert_exporter": "python",
   "pygments_lexer": "ipython3",
   "version": "3.6.5"
  }
 },
 "nbformat": 4,
 "nbformat_minor": 2
}
