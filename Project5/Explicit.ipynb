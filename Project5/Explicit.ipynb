{
 "cells": [
  {
   "cell_type": "code",
   "execution_count": 1,
   "metadata": {},
   "outputs": [],
   "source": [
    "#! /usr/bin/python\n",
    "# -*- coding: utf-8 -*-\n",
    "# ~.py\n",
    "\n",
    "# Version: 2018.11.29.01\n",
    "\n",
    "# Requiered libraries\n",
    "import sys, os, math, time\n",
    "import numpy as np\n",
    "import scipy.linalg as cpy\n",
    "import matplotlib.pyplot as plt\n",
    "from numba import jit, njit, prange"
   ]
  },
  {
   "cell_type": "code",
   "execution_count": 2,
   "metadata": {},
   "outputs": [],
   "source": [
    "@njit()\n",
    "def g(x):\n",
    "    return 0. #np.sin(math.pi*x)\n",
    "\n",
    "@njit()\n",
    "def explicit(X,T,u,alpha):\n",
    "    b = 1.-2.*alpha\n",
    "    for ii in range(0,T-1):\n",
    "        for jj in range(1,X):\n",
    "            u[ii+1,jj] = alpha*u[ii,jj-1] + (b)*u[ii,jj] + alpha*u[ii,jj+1]\n",
    "    return u\n",
    "            \n"
   ]
  },
  {
   "cell_type": "code",
   "execution_count": 3,
   "metadata": {},
   "outputs": [
    {
     "name": "stdout",
     "output_type": "stream",
     "text": [
      "alpha =\n",
      " 0.4999999999999999\n",
      "x =\n",
      " [0.  0.1 0.2 0.3 0.4 0.5 0.6 0.7 0.8 0.9 1. ]\n",
      "u[0] =\n",
      " [0. 0. 0. 0. 0. 0. 0. 0. 0. 0. 1.]\n"
     ]
    }
   ],
   "source": [
    "N = 10\n",
    "dt = 5e-3\n",
    "T = 400\n",
    "\n",
    "u = np.zeros((T,N+1), np.double)\n",
    "(x,dx) = np.linspace(0,1,N+1, retstep=True)\n",
    "\n",
    "alpha = dt/dx**2\n",
    "u[0,:] = g(x)\n",
    "u[0,0] = u[0,-1] = 0.\n",
    "u[:,-1]= 1.\n",
    "#u[0,-2]= 1.\n",
    "print(\"alpha =\\n\",alpha)\n",
    "print(\"x =\\n\",x)\n",
    "print(\"u[0] =\\n\",u[0,:])"
   ]
  },
  {
   "cell_type": "code",
   "execution_count": 4,
   "metadata": {},
   "outputs": [
    {
     "name": "stdout",
     "output_type": "stream",
     "text": [
      "0.15404987335205078\n"
     ]
    }
   ],
   "source": [
    "t0 = time.time()\n",
    "sol = explicit(N,T,u,alpha)\n",
    "t1 = time.time()\n",
    "print(t1-t0)\n",
    "#print(sol[-1,:])"
   ]
  },
  {
   "cell_type": "code",
   "execution_count": 5,
   "metadata": {},
   "outputs": [
    {
     "data": {
      "image/png": "[encoded data removed]",
      "text/plain": [
       "<Figure size 432x288 with 1 Axes>"
      ]
     },
     "metadata": {},
     "output_type": "display_data"
    }
   ],
   "source": [
    "#%matplotlib qt\n",
    "plt.plot(x,sol[0,:], '--.', label = \"t=0\")\n",
    "plt.plot(x,sol[1,:], '--.', label = \"t=0\")\n",
    "plt.plot(x,sol[-1,:], '--', label = \"t=2*dt\")\n",
    "#plt.legend(loc='best')\n",
    "plt.show()"
   ]
  },
  {
   "cell_type": "code",
   "execution_count": 6,
   "metadata": {},
   "outputs": [],
   "source": [
    "%matplotlib qt\n",
    "fig, ax = plt.subplots()\n",
    "im = ax.imshow(np.flip(sol,0), cmap='jet')\n",
    "cbar = fig.colorbar(im)\n",
    "#print(sol[0,:])\n",
    "#print(sol[1,:])\n",
    "#print(sol[-1,:])"
   ]
  }
 ],
 "metadata": {
  "kernelspec": {
   "display_name": "Python 3",
   "language": "python",
   "name": "python3"
  },
  "language_info": {
   "codemirror_mode": {
    "name": "ipython",
    "version": 3
   },
   "file_extension": ".py",
   "mimetype": "text/x-python",
   "name": "python",
   "nbconvert_exporter": "python",
   "pygments_lexer": "ipython3",
   "version": "3.6.5"
  }
 },
 "nbformat": 4,
 "nbformat_minor": 2
}
